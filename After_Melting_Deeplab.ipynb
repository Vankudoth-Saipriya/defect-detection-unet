{
 "cells": [
  {
   "cell_type": "code",
   "execution_count": 1,
   "id": "d419f89a-d94c-42b0-ba9a-b97123aea96d",
   "metadata": {},
   "outputs": [],
   "source": [
    "import os\n",
    "import time\n",
    "import numpy as np\n",
    "from datetime import timedelta\n",
    "from PIL import Image\n",
    "import torch\n",
    "import torch.nn as nn\n",
    "from torch.utils.data import Dataset, DataLoader\n",
    "from torchvision import transforms\n",
    "from torchvision.models.segmentation import deeplabv3_resnet50\n",
    "from torch.optim import Adam"
   ]
  },
  {
   "cell_type": "code",
   "execution_count": 2,
   "id": "a4b78d50-9249-4d4b-85a0-b22c2e4ec9c6",
   "metadata": {},
   "outputs": [
    {
     "name": "stdout",
     "output_type": "stream",
     "text": [
      "Using device: mps\n"
     ]
    }
   ],
   "source": [
    "\n",
    "device = torch.device('mps' if torch.backends.mps.is_available() else 'cpu')\n",
    "print(f\"Using device: {device}\")"
   ]
  },
  {
   "cell_type": "code",
   "execution_count": 3,
   "id": "37ae00a8-f98e-49f5-8a62-fd1e87f711ed",
   "metadata": {},
   "outputs": [],
   "source": [
    "class DefectDataset(Dataset):\n",
    "    def __init__(self, root_dir, transform=None, mask_transform=None, split='train'):\n",
    "        self.root_dir = os.path.join(root_dir, split)\n",
    "        self.transform = transform\n",
    "        self.mask_transform = mask_transform or transforms.Compose([\n",
    "            transforms.Resize((512, 512)),\n",
    "            transforms.ToTensor()\n",
    "        ])\n",
    "        self.image_dir = os.path.join(self.root_dir, 'Img.after.melting')\n",
    "        self.class_dirs = [f'Defect_class{cls}' for cls in [0, 5, 8, 9, 10, 11]]\n",
    "        self.image_names = sorted(os.listdir(self.image_dir))\n",
    "        \n",
    "    def __len__(self):\n",
    "        return len(self.image_names)\n",
    "        \n",
    "    def __getitem__(self, idx):\n",
    "        img_name = self.image_names[idx]\n",
    "        img_path = os.path.join(self.image_dir, img_name)\n",
    "        image = Image.open(img_path).convert('RGB')\n",
    "        \n",
    "        # Initialize empty mask\n",
    "        mask = np.zeros((image.size[1], image.size[0]), dtype=np.uint8)\n",
    "        \n",
    "        # Combine all defect masks\n",
    "        for i, class_dir in enumerate(self.class_dirs):\n",
    "            mask_path = os.path.join(self.root_dir, class_dir, img_name)\n",
    "            if os.path.exists(mask_path):\n",
    "                class_mask = np.array(Image.open(mask_path))\n",
    "                mask[class_mask > 0] = i + 1  # class 0 becomes 1, etc.\n",
    "        \n",
    "        # Apply transforms\n",
    "        if self.transform:\n",
    "            image = self.transform(image)\n",
    "        mask = self.mask_transform(Image.fromarray(mask)).squeeze(0).long()\n",
    "        \n",
    "        return image, mask"
   ]
  },
  {
   "cell_type": "code",
   "execution_count": 4,
   "id": "4c6f8220-e0d9-4216-8b32-f6db7858a48f",
   "metadata": {},
   "outputs": [],
   "source": [
    "def create_model(num_classes):\n",
    "    model = deeplabv3_resnet50(pretrained=True)\n",
    "    model.classifier[4] = nn.Conv2d(256, num_classes, kernel_size=(1, 1), stride=(1, 1))\n",
    "    model.aux_classifier[4] = nn.Conv2d(256, num_classes, kernel_size=(1, 1), stride=(1, 1))\n",
    "    return model.to(device)\n"
   ]
  },
  {
   "cell_type": "code",
   "execution_count": 5,
   "id": "9ec9f215-2cf3-4a0f-be90-f9c5c7eec08a",
   "metadata": {},
   "outputs": [],
   "source": [
    "def train_model(model, train_loader, val_loader, criterion, optimizer, num_epochs):\n",
    "    best_val_loss = float('inf')\n",
    "    start_time = time.time()\n",
    "    \n",
    "    for epoch in range(num_epochs):\n",
    "        epoch_start = time.time()\n",
    "        model.train()\n",
    "        train_loss = 0.0\n",
    "        \n",
    "        for batch_idx, (images, masks) in enumerate(train_loader):\n",
    "            batch_start = time.time()\n",
    "            \n",
    "            images = images.to(device)\n",
    "            masks = masks.to(device)\n",
    "            \n",
    "            # Forward pass\n",
    "            outputs = model(images)['out']\n",
    "            loss = criterion(outputs, masks)\n",
    "            \n",
    "            # Backward pass\n",
    "            optimizer.zero_grad()\n",
    "            loss.backward()\n",
    "            optimizer.step()\n",
    "            \n",
    "            train_loss += loss.item() * images.size(0)\n",
    "            \n",
    "            # Print progress\n",
    "            if batch_idx % 10 == 0:\n",
    "                batch_time = time.time() - batch_start\n",
    "                remaining = (len(train_loader) - batch_idx) * batch_time\n",
    "                print(f'\\rEpoch {epoch+1}/{num_epochs} | Batch {batch_idx}/{len(train_loader)} | '\n",
    "                      f'ETA: {timedelta(seconds=int(remaining))}', end='')\n",
    "        \n",
    "        # Validation\n",
    "        model.eval()\n",
    "        val_loss = 0.0\n",
    "        with torch.no_grad():\n",
    "            for images, masks in val_loader:\n",
    "                images = images.to(device)\n",
    "                masks = masks.to(device)\n",
    "                outputs = model(images)['out']\n",
    "                val_loss += criterion(outputs, masks).item() * images.size(0)\n",
    "        \n",
    "        # Calculate metrics\n",
    "        train_loss /= len(train_loader.dataset)\n",
    "        val_loss /= len(val_loader.dataset)\n",
    "        epoch_time = time.time() - epoch_start\n",
    "        total_remaining = (num_epochs - epoch - 1) * epoch_time\n",
    "        \n",
    "        print(f'\\rEpoch {epoch+1}/{num_epochs} | '\n",
    "              f'Train Loss: {train_loss:.4f} | Val Loss: {val_loss:.4f} | '\n",
    "              f'Time: {timedelta(seconds=int(epoch_time))} | '\n",
    "              f'Total ETA: {timedelta(seconds=int(total_remaining))}')\n",
    "        \n",
    "        # Save best model\n",
    "        if val_loss < best_val_loss:\n",
    "            best_val_loss = val_loss\n",
    "            torch.save(model.state_dict(), 'best_deeplabv3_defect.pth')\n",
    "    \n",
    "    print(f'\\nTraining completed in {timedelta(seconds=int(time.time()-start_time))}')\n",
    "    return model"
   ]
  },
  {
   "cell_type": "code",
   "execution_count": 6,
   "id": "488c4d42-bb5d-41fc-934c-8dcfe7ee5321",
   "metadata": {},
   "outputs": [],
   "source": [
    "batch_size = 4\n",
    "learning_rate = 0.001\n",
    "num_epochs = 20\n",
    "num_classes = 7  # 6 defect classes + background\n",
    "\n",
    "# Transforms\n",
    "transform = transforms.Compose([\n",
    "    transforms.Resize((384, 384)),  # Reduced from 512x512\n",
    "    transforms.ToTensor(),\n",
    "    transforms.Normalize(mean=[0.485, 0.456, 0.406], std=[0.229, 0.224, 0.225])\n",
    "])\n",
    "\n",
    "mask_transform = transforms.Compose([\n",
    "    transforms.Resize((384, 384)),\n",
    "    transforms.ToTensor()\n",
    "])"
   ]
  },
  {
   "cell_type": "code",
   "execution_count": 7,
   "id": "b8cf0c50-1a1c-4c74-84b2-b7ad44d32f2c",
   "metadata": {},
   "outputs": [],
   "source": [
    "train_dataset = DefectDataset(root_dir='/Users/sanjanahaldar/Library/CloudStorage/GoogleDrive-sanukadam721@gmail.com/My Drive/Info_Project/Defect_Detection/DataSets/Data.Splitting/After_Melting_Defect_Detection', \n",
    "                            transform=transform,\n",
    "                            mask_transform=mask_transform,\n",
    "                            split='train')\n",
    "val_dataset = DefectDataset(root_dir='/Users/sanjanahaldar/Library/CloudStorage/GoogleDrive-sanukadam721@gmail.com/My Drive/Info_Project/Defect_Detection/DataSets/Data.Splitting/After_Melting_Defect_Detection',\n",
    "                          transform=transform,\n",
    "                          mask_transform=mask_transform,\n",
    "                          split='val')\n"
   ]
  },
  {
   "cell_type": "code",
   "execution_count": 8,
   "id": "89a02721-fbfd-426d-8ab3-5f148bb45381",
   "metadata": {},
   "outputs": [],
   "source": [
    "train_loader = DataLoader(train_dataset, batch_size=batch_size, shuffle=True)\n",
    "val_loader = DataLoader(val_dataset, batch_size=batch_size, shuffle=False)"
   ]
  },
  {
   "cell_type": "code",
   "execution_count": 9,
   "id": "dadc3cf0-98c4-403b-8e59-df96744da9ea",
   "metadata": {},
   "outputs": [
    {
     "name": "stderr",
     "output_type": "stream",
     "text": [
      "/opt/anaconda3/envs/deep_learning/lib/python3.9/site-packages/torchvision/models/_utils.py:208: UserWarning: The parameter 'pretrained' is deprecated since 0.13 and may be removed in the future, please use 'weights' instead.\n",
      "  warnings.warn(\n",
      "/opt/anaconda3/envs/deep_learning/lib/python3.9/site-packages/torchvision/models/_utils.py:223: UserWarning: Arguments other than a weight enum or `None` for 'weights' are deprecated since 0.13 and may be removed in the future. The current behavior is equivalent to passing `weights=DeepLabV3_ResNet50_Weights.COCO_WITH_VOC_LABELS_V1`. You can also use `weights=DeepLabV3_ResNet50_Weights.DEFAULT` to get the most up-to-date weights.\n",
      "  warnings.warn(msg)\n"
     ]
    }
   ],
   "source": [
    "model = create_model(num_classes)\n",
    "criterion = nn.CrossEntropyLoss()\n",
    "optimizer = Adam(model.parameters(), lr=learning_rate)"
   ]
  },
  {
   "cell_type": "code",
   "execution_count": null,
   "id": "73171ca7-e327-43be-8759-7f51cc03600d",
   "metadata": {},
   "outputs": [
    {
     "name": "stdout",
     "output_type": "stream",
     "text": [
      "Epoch 1/20 | Batch 0/626 | ETA: 3:30:50"
     ]
    }
   ],
   "source": [
    "trained_model = train_model(model, train_loader, val_loader, criterion, optimizer, num_epochs)"
   ]
  },
  {
   "cell_type": "code",
   "execution_count": null,
   "id": "6eb6906e-4824-4e7b-8743-af9566b7da3a",
   "metadata": {},
   "outputs": [],
   "source": []
  }
 ],
 "metadata": {
  "kernelspec": {
   "display_name": "Python 3 (ipykernel)",
   "language": "python",
   "name": "python3"
  },
  "language_info": {
   "codemirror_mode": {
    "name": "ipython",
    "version": 3
   },
   "file_extension": ".py",
   "mimetype": "text/x-python",
   "name": "python",
   "nbconvert_exporter": "python",
   "pygments_lexer": "ipython3",
   "version": "3.9.21"
  }
 },
 "nbformat": 4,
 "nbformat_minor": 5
}
